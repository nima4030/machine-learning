{
 "cells": [
  {
   "cell_type": "code",
   "execution_count": 1,
   "id": "3362c4c6",
   "metadata": {
    "_cell_guid": "b1076dfc-b9ad-4769-8c92-a6c4dae69d19",
    "_uuid": "8f2839f25d086af736a60e9eeb907d3b93b6e0e5",
    "execution": {
     "iopub.execute_input": "2022-09-18T11:42:34.639834Z",
     "iopub.status.busy": "2022-09-18T11:42:34.639469Z",
     "iopub.status.idle": "2022-09-18T11:42:36.399828Z",
     "shell.execute_reply": "2022-09-18T11:42:36.398856Z"
    },
    "papermill": {
     "duration": 1.769973,
     "end_time": "2022-09-18T11:42:36.402274",
     "exception": false,
     "start_time": "2022-09-18T11:42:34.632301",
     "status": "completed"
    },
    "tags": []
   },
   "outputs": [],
   "source": [
    "import numpy as np \n",
    "import pandas as pd\n",
    "import seaborn as sns \n",
    "import matplotlib.pyplot as plt\n",
    "from sklearn.preprocessing import StandardScaler\n",
    "from sklearn import preprocessing\n",
    "from sklearn import svm\n",
    "from sklearn.ensemble import RandomForestClassifier\n",
    "from sklearn.metrics import f1_score\n",
    "from sklearn.impute import SimpleImputer\n",
    "import xgboost as xgb\n",
    "import warnings\n",
    "warnings.filterwarnings('ignore')"
   ]
  },
  {
   "cell_type": "code",
   "execution_count": 2,
   "id": "f87de814",
   "metadata": {
    "execution": {
     "iopub.execute_input": "2022-09-18T11:42:36.413355Z",
     "iopub.status.busy": "2022-09-18T11:42:36.413043Z",
     "iopub.status.idle": "2022-09-18T11:42:36.514223Z",
     "shell.execute_reply": "2022-09-18T11:42:36.512612Z"
    },
    "papermill": {
     "duration": 0.108966,
     "end_time": "2022-09-18T11:42:36.516097",
     "exception": false,
     "start_time": "2022-09-18T11:42:36.407131",
     "status": "completed"
    },
    "tags": []
   },
   "outputs": [
    {
     "data": {
      "text/html": [
       "<div>\n",
       "<style scoped>\n",
       "    .dataframe tbody tr th:only-of-type {\n",
       "        vertical-align: middle;\n",
       "    }\n",
       "\n",
       "    .dataframe tbody tr th {\n",
       "        vertical-align: top;\n",
       "    }\n",
       "\n",
       "    .dataframe thead th {\n",
       "        text-align: right;\n",
       "    }\n",
       "</style>\n",
       "<table border=\"1\" class=\"dataframe\">\n",
       "  <thead>\n",
       "    <tr style=\"text-align: right;\">\n",
       "      <th></th>\n",
       "      <th>PassengerId</th>\n",
       "      <th>Survived</th>\n",
       "      <th>Pclass</th>\n",
       "      <th>Name</th>\n",
       "      <th>Sex</th>\n",
       "      <th>Age</th>\n",
       "      <th>SibSp</th>\n",
       "      <th>Parch</th>\n",
       "      <th>Ticket</th>\n",
       "      <th>Fare</th>\n",
       "      <th>Cabin</th>\n",
       "      <th>Embarked</th>\n",
       "    </tr>\n",
       "  </thead>\n",
       "  <tbody>\n",
       "    <tr>\n",
       "      <th>0</th>\n",
       "      <td>1</td>\n",
       "      <td>0</td>\n",
       "      <td>3</td>\n",
       "      <td>Braund, Mr. Owen Harris</td>\n",
       "      <td>male</td>\n",
       "      <td>22.0</td>\n",
       "      <td>1</td>\n",
       "      <td>0</td>\n",
       "      <td>A/5 21171</td>\n",
       "      <td>7.2500</td>\n",
       "      <td>NaN</td>\n",
       "      <td>S</td>\n",
       "    </tr>\n",
       "    <tr>\n",
       "      <th>1</th>\n",
       "      <td>2</td>\n",
       "      <td>1</td>\n",
       "      <td>1</td>\n",
       "      <td>Cumings, Mrs. John Bradley (Florence Briggs Th...</td>\n",
       "      <td>female</td>\n",
       "      <td>38.0</td>\n",
       "      <td>1</td>\n",
       "      <td>0</td>\n",
       "      <td>PC 17599</td>\n",
       "      <td>71.2833</td>\n",
       "      <td>C85</td>\n",
       "      <td>C</td>\n",
       "    </tr>\n",
       "    <tr>\n",
       "      <th>2</th>\n",
       "      <td>3</td>\n",
       "      <td>1</td>\n",
       "      <td>3</td>\n",
       "      <td>Heikkinen, Miss. Laina</td>\n",
       "      <td>female</td>\n",
       "      <td>26.0</td>\n",
       "      <td>0</td>\n",
       "      <td>0</td>\n",
       "      <td>STON/O2. 3101282</td>\n",
       "      <td>7.9250</td>\n",
       "      <td>NaN</td>\n",
       "      <td>S</td>\n",
       "    </tr>\n",
       "    <tr>\n",
       "      <th>3</th>\n",
       "      <td>4</td>\n",
       "      <td>1</td>\n",
       "      <td>1</td>\n",
       "      <td>Futrelle, Mrs. Jacques Heath (Lily May Peel)</td>\n",
       "      <td>female</td>\n",
       "      <td>35.0</td>\n",
       "      <td>1</td>\n",
       "      <td>0</td>\n",
       "      <td>113803</td>\n",
       "      <td>53.1000</td>\n",
       "      <td>C123</td>\n",
       "      <td>S</td>\n",
       "    </tr>\n",
       "    <tr>\n",
       "      <th>4</th>\n",
       "      <td>5</td>\n",
       "      <td>0</td>\n",
       "      <td>3</td>\n",
       "      <td>Allen, Mr. William Henry</td>\n",
       "      <td>male</td>\n",
       "      <td>35.0</td>\n",
       "      <td>0</td>\n",
       "      <td>0</td>\n",
       "      <td>373450</td>\n",
       "      <td>8.0500</td>\n",
       "      <td>NaN</td>\n",
       "      <td>S</td>\n",
       "    </tr>\n",
       "    <tr>\n",
       "      <th>...</th>\n",
       "      <td>...</td>\n",
       "      <td>...</td>\n",
       "      <td>...</td>\n",
       "      <td>...</td>\n",
       "      <td>...</td>\n",
       "      <td>...</td>\n",
       "      <td>...</td>\n",
       "      <td>...</td>\n",
       "      <td>...</td>\n",
       "      <td>...</td>\n",
       "      <td>...</td>\n",
       "      <td>...</td>\n",
       "    </tr>\n",
       "    <tr>\n",
       "      <th>886</th>\n",
       "      <td>887</td>\n",
       "      <td>0</td>\n",
       "      <td>2</td>\n",
       "      <td>Montvila, Rev. Juozas</td>\n",
       "      <td>male</td>\n",
       "      <td>27.0</td>\n",
       "      <td>0</td>\n",
       "      <td>0</td>\n",
       "      <td>211536</td>\n",
       "      <td>13.0000</td>\n",
       "      <td>NaN</td>\n",
       "      <td>S</td>\n",
       "    </tr>\n",
       "    <tr>\n",
       "      <th>887</th>\n",
       "      <td>888</td>\n",
       "      <td>1</td>\n",
       "      <td>1</td>\n",
       "      <td>Graham, Miss. Margaret Edith</td>\n",
       "      <td>female</td>\n",
       "      <td>19.0</td>\n",
       "      <td>0</td>\n",
       "      <td>0</td>\n",
       "      <td>112053</td>\n",
       "      <td>30.0000</td>\n",
       "      <td>B42</td>\n",
       "      <td>S</td>\n",
       "    </tr>\n",
       "    <tr>\n",
       "      <th>888</th>\n",
       "      <td>889</td>\n",
       "      <td>0</td>\n",
       "      <td>3</td>\n",
       "      <td>Johnston, Miss. Catherine Helen \"Carrie\"</td>\n",
       "      <td>female</td>\n",
       "      <td>NaN</td>\n",
       "      <td>1</td>\n",
       "      <td>2</td>\n",
       "      <td>W./C. 6607</td>\n",
       "      <td>23.4500</td>\n",
       "      <td>NaN</td>\n",
       "      <td>S</td>\n",
       "    </tr>\n",
       "    <tr>\n",
       "      <th>889</th>\n",
       "      <td>890</td>\n",
       "      <td>1</td>\n",
       "      <td>1</td>\n",
       "      <td>Behr, Mr. Karl Howell</td>\n",
       "      <td>male</td>\n",
       "      <td>26.0</td>\n",
       "      <td>0</td>\n",
       "      <td>0</td>\n",
       "      <td>111369</td>\n",
       "      <td>30.0000</td>\n",
       "      <td>C148</td>\n",
       "      <td>C</td>\n",
       "    </tr>\n",
       "    <tr>\n",
       "      <th>890</th>\n",
       "      <td>891</td>\n",
       "      <td>0</td>\n",
       "      <td>3</td>\n",
       "      <td>Dooley, Mr. Patrick</td>\n",
       "      <td>male</td>\n",
       "      <td>32.0</td>\n",
       "      <td>0</td>\n",
       "      <td>0</td>\n",
       "      <td>370376</td>\n",
       "      <td>7.7500</td>\n",
       "      <td>NaN</td>\n",
       "      <td>Q</td>\n",
       "    </tr>\n",
       "  </tbody>\n",
       "</table>\n",
       "<p>891 rows × 12 columns</p>\n",
       "</div>"
      ],
      "text/plain": [
       "     PassengerId  Survived  Pclass  \\\n",
       "0              1         0       3   \n",
       "1              2         1       1   \n",
       "2              3         1       3   \n",
       "3              4         1       1   \n",
       "4              5         0       3   \n",
       "..           ...       ...     ...   \n",
       "886          887         0       2   \n",
       "887          888         1       1   \n",
       "888          889         0       3   \n",
       "889          890         1       1   \n",
       "890          891         0       3   \n",
       "\n",
       "                                                  Name     Sex   Age  SibSp  \\\n",
       "0                              Braund, Mr. Owen Harris    male  22.0      1   \n",
       "1    Cumings, Mrs. John Bradley (Florence Briggs Th...  female  38.0      1   \n",
       "2                               Heikkinen, Miss. Laina  female  26.0      0   \n",
       "3         Futrelle, Mrs. Jacques Heath (Lily May Peel)  female  35.0      1   \n",
       "4                             Allen, Mr. William Henry    male  35.0      0   \n",
       "..                                                 ...     ...   ...    ...   \n",
       "886                              Montvila, Rev. Juozas    male  27.0      0   \n",
       "887                       Graham, Miss. Margaret Edith  female  19.0      0   \n",
       "888           Johnston, Miss. Catherine Helen \"Carrie\"  female   NaN      1   \n",
       "889                              Behr, Mr. Karl Howell    male  26.0      0   \n",
       "890                                Dooley, Mr. Patrick    male  32.0      0   \n",
       "\n",
       "     Parch            Ticket     Fare Cabin Embarked  \n",
       "0        0         A/5 21171   7.2500   NaN        S  \n",
       "1        0          PC 17599  71.2833   C85        C  \n",
       "2        0  STON/O2. 3101282   7.9250   NaN        S  \n",
       "3        0            113803  53.1000  C123        S  \n",
       "4        0            373450   8.0500   NaN        S  \n",
       "..     ...               ...      ...   ...      ...  \n",
       "886      0            211536  13.0000   NaN        S  \n",
       "887      0            112053  30.0000   B42        S  \n",
       "888      2        W./C. 6607  23.4500   NaN        S  \n",
       "889      0            111369  30.0000  C148        C  \n",
       "890      0            370376   7.7500   NaN        Q  \n",
       "\n",
       "[891 rows x 12 columns]"
      ]
     },
     "execution_count": 2,
     "metadata": {},
     "output_type": "execute_result"
    }
   ],
   "source": [
    "df=pd.read_csv(\"../input/titanic/train.csv\")\n",
    "test=pd.read_csv(\"../input/titanic/test.csv\")\n",
    "gender_submission=pd.read_csv(\"../input/titanic/gender_submission.csv\")\n",
    "\n",
    "df"
   ]
  },
  {
   "cell_type": "code",
   "execution_count": 3,
   "id": "c87bf79e",
   "metadata": {
    "execution": {
     "iopub.execute_input": "2022-09-18T11:42:36.529038Z",
     "iopub.status.busy": "2022-09-18T11:42:36.528359Z",
     "iopub.status.idle": "2022-09-18T11:42:36.533574Z",
     "shell.execute_reply": "2022-09-18T11:42:36.532354Z"
    },
    "papermill": {
     "duration": 0.013873,
     "end_time": "2022-09-18T11:42:36.535759",
     "exception": false,
     "start_time": "2022-09-18T11:42:36.521886",
     "status": "completed"
    },
    "tags": []
   },
   "outputs": [
    {
     "name": "stdout",
     "output_type": "stream",
     "text": [
      "Shape of Titanic data set is : (891, 12)\n",
      "Size of Titanic data set is  : 10692\n"
     ]
    }
   ],
   "source": [
    "print('Shape of Titanic data set is :',df.shape)\n",
    "print('Size of Titanic data set is  :',df.size)"
   ]
  },
  {
   "cell_type": "code",
   "execution_count": 4,
   "id": "bdf1a534",
   "metadata": {
    "execution": {
     "iopub.execute_input": "2022-09-18T11:42:36.548285Z",
     "iopub.status.busy": "2022-09-18T11:42:36.547366Z",
     "iopub.status.idle": "2022-09-18T11:42:36.592619Z",
     "shell.execute_reply": "2022-09-18T11:42:36.591491Z"
    },
    "papermill": {
     "duration": 0.05402,
     "end_time": "2022-09-18T11:42:36.595072",
     "exception": false,
     "start_time": "2022-09-18T11:42:36.541052",
     "status": "completed"
    },
    "tags": []
   },
   "outputs": [
    {
     "data": {
      "text/html": [
       "<div>\n",
       "<style scoped>\n",
       "    .dataframe tbody tr th:only-of-type {\n",
       "        vertical-align: middle;\n",
       "    }\n",
       "\n",
       "    .dataframe tbody tr th {\n",
       "        vertical-align: top;\n",
       "    }\n",
       "\n",
       "    .dataframe thead th {\n",
       "        text-align: right;\n",
       "    }\n",
       "</style>\n",
       "<table border=\"1\" class=\"dataframe\">\n",
       "  <thead>\n",
       "    <tr style=\"text-align: right;\">\n",
       "      <th></th>\n",
       "      <th>PassengerId</th>\n",
       "      <th>Survived</th>\n",
       "      <th>Pclass</th>\n",
       "      <th>Age</th>\n",
       "      <th>SibSp</th>\n",
       "      <th>Parch</th>\n",
       "      <th>Fare</th>\n",
       "    </tr>\n",
       "  </thead>\n",
       "  <tbody>\n",
       "    <tr>\n",
       "      <th>count</th>\n",
       "      <td>891.000000</td>\n",
       "      <td>891.000000</td>\n",
       "      <td>891.000000</td>\n",
       "      <td>714.000000</td>\n",
       "      <td>891.000000</td>\n",
       "      <td>891.000000</td>\n",
       "      <td>891.000000</td>\n",
       "    </tr>\n",
       "    <tr>\n",
       "      <th>mean</th>\n",
       "      <td>446.000000</td>\n",
       "      <td>0.383838</td>\n",
       "      <td>2.308642</td>\n",
       "      <td>29.699118</td>\n",
       "      <td>0.523008</td>\n",
       "      <td>0.381594</td>\n",
       "      <td>32.204208</td>\n",
       "    </tr>\n",
       "    <tr>\n",
       "      <th>std</th>\n",
       "      <td>257.353842</td>\n",
       "      <td>0.486592</td>\n",
       "      <td>0.836071</td>\n",
       "      <td>14.526497</td>\n",
       "      <td>1.102743</td>\n",
       "      <td>0.806057</td>\n",
       "      <td>49.693429</td>\n",
       "    </tr>\n",
       "    <tr>\n",
       "      <th>min</th>\n",
       "      <td>1.000000</td>\n",
       "      <td>0.000000</td>\n",
       "      <td>1.000000</td>\n",
       "      <td>0.420000</td>\n",
       "      <td>0.000000</td>\n",
       "      <td>0.000000</td>\n",
       "      <td>0.000000</td>\n",
       "    </tr>\n",
       "    <tr>\n",
       "      <th>25%</th>\n",
       "      <td>223.500000</td>\n",
       "      <td>0.000000</td>\n",
       "      <td>2.000000</td>\n",
       "      <td>20.125000</td>\n",
       "      <td>0.000000</td>\n",
       "      <td>0.000000</td>\n",
       "      <td>7.910400</td>\n",
       "    </tr>\n",
       "    <tr>\n",
       "      <th>50%</th>\n",
       "      <td>446.000000</td>\n",
       "      <td>0.000000</td>\n",
       "      <td>3.000000</td>\n",
       "      <td>28.000000</td>\n",
       "      <td>0.000000</td>\n",
       "      <td>0.000000</td>\n",
       "      <td>14.454200</td>\n",
       "    </tr>\n",
       "    <tr>\n",
       "      <th>75%</th>\n",
       "      <td>668.500000</td>\n",
       "      <td>1.000000</td>\n",
       "      <td>3.000000</td>\n",
       "      <td>38.000000</td>\n",
       "      <td>1.000000</td>\n",
       "      <td>0.000000</td>\n",
       "      <td>31.000000</td>\n",
       "    </tr>\n",
       "    <tr>\n",
       "      <th>max</th>\n",
       "      <td>891.000000</td>\n",
       "      <td>1.000000</td>\n",
       "      <td>3.000000</td>\n",
       "      <td>80.000000</td>\n",
       "      <td>8.000000</td>\n",
       "      <td>6.000000</td>\n",
       "      <td>512.329200</td>\n",
       "    </tr>\n",
       "  </tbody>\n",
       "</table>\n",
       "</div>"
      ],
      "text/plain": [
       "       PassengerId    Survived      Pclass         Age       SibSp  \\\n",
       "count   891.000000  891.000000  891.000000  714.000000  891.000000   \n",
       "mean    446.000000    0.383838    2.308642   29.699118    0.523008   \n",
       "std     257.353842    0.486592    0.836071   14.526497    1.102743   \n",
       "min       1.000000    0.000000    1.000000    0.420000    0.000000   \n",
       "25%     223.500000    0.000000    2.000000   20.125000    0.000000   \n",
       "50%     446.000000    0.000000    3.000000   28.000000    0.000000   \n",
       "75%     668.500000    1.000000    3.000000   38.000000    1.000000   \n",
       "max     891.000000    1.000000    3.000000   80.000000    8.000000   \n",
       "\n",
       "            Parch        Fare  \n",
       "count  891.000000  891.000000  \n",
       "mean     0.381594   32.204208  \n",
       "std      0.806057   49.693429  \n",
       "min      0.000000    0.000000  \n",
       "25%      0.000000    7.910400  \n",
       "50%      0.000000   14.454200  \n",
       "75%      0.000000   31.000000  \n",
       "max      6.000000  512.329200  "
      ]
     },
     "execution_count": 4,
     "metadata": {},
     "output_type": "execute_result"
    }
   ],
   "source": [
    "df.describe()"
   ]
  },
  {
   "cell_type": "code",
   "execution_count": 5,
   "id": "28b4d3a5",
   "metadata": {
    "execution": {
     "iopub.execute_input": "2022-09-18T11:42:36.608121Z",
     "iopub.status.busy": "2022-09-18T11:42:36.606986Z",
     "iopub.status.idle": "2022-09-18T11:42:36.624046Z",
     "shell.execute_reply": "2022-09-18T11:42:36.622803Z"
    },
    "papermill": {
     "duration": 0.025725,
     "end_time": "2022-09-18T11:42:36.626149",
     "exception": false,
     "start_time": "2022-09-18T11:42:36.600424",
     "status": "completed"
    },
    "tags": []
   },
   "outputs": [
    {
     "name": "stdout",
     "output_type": "stream",
     "text": [
      "<class 'pandas.core.frame.DataFrame'>\n",
      "RangeIndex: 891 entries, 0 to 890\n",
      "Data columns (total 12 columns):\n",
      " #   Column       Non-Null Count  Dtype  \n",
      "---  ------       --------------  -----  \n",
      " 0   PassengerId  891 non-null    int64  \n",
      " 1   Survived     891 non-null    int64  \n",
      " 2   Pclass       891 non-null    int64  \n",
      " 3   Name         891 non-null    object \n",
      " 4   Sex          891 non-null    object \n",
      " 5   Age          714 non-null    float64\n",
      " 6   SibSp        891 non-null    int64  \n",
      " 7   Parch        891 non-null    int64  \n",
      " 8   Ticket       891 non-null    object \n",
      " 9   Fare         891 non-null    float64\n",
      " 10  Cabin        204 non-null    object \n",
      " 11  Embarked     889 non-null    object \n",
      "dtypes: float64(2), int64(5), object(5)\n",
      "memory usage: 83.7+ KB\n"
     ]
    }
   ],
   "source": [
    "df.info()"
   ]
  },
  {
   "cell_type": "code",
   "execution_count": 6,
   "id": "26308884",
   "metadata": {
    "execution": {
     "iopub.execute_input": "2022-09-18T11:42:36.638987Z",
     "iopub.status.busy": "2022-09-18T11:42:36.638672Z",
     "iopub.status.idle": "2022-09-18T11:42:36.648392Z",
     "shell.execute_reply": "2022-09-18T11:42:36.647339Z"
    },
    "papermill": {
     "duration": 0.018684,
     "end_time": "2022-09-18T11:42:36.650497",
     "exception": false,
     "start_time": "2022-09-18T11:42:36.631813",
     "status": "completed"
    },
    "tags": []
   },
   "outputs": [
    {
     "name": "stdout",
     "output_type": "stream",
     "text": [
      "0        male\n",
      "1      female\n",
      "2      female\n",
      "3      female\n",
      "4        male\n",
      "        ...  \n",
      "886      male\n",
      "887    female\n",
      "888    female\n",
      "889      male\n",
      "890      male\n",
      "Name: Sex, Length: 891, dtype: object\n",
      "\n",
      "\n",
      "after replace:\n",
      "0      1\n",
      "1      0\n",
      "2      0\n",
      "3      0\n",
      "4      1\n",
      "      ..\n",
      "886    1\n",
      "887    0\n",
      "888    0\n",
      "889    1\n",
      "890    1\n",
      "Name: Sex, Length: 891, dtype: int64\n"
     ]
    }
   ],
   "source": [
    "print(df[\"Sex\"])\n",
    "print(\"\\n\")\n",
    "df[\"Sex\"]=df[\"Sex\"].replace([\"male\",\"female\"],[1,0])\n",
    "print(\"after replace:\")\n",
    "print(df[\"Sex\"])\n",
    "\n",
    "\n",
    "test[\"Sex\"]=test[\"Sex\"].replace([\"male\",\"female\"],[1,0])\n"
   ]
  },
  {
   "cell_type": "code",
   "execution_count": 7,
   "id": "a82b486b",
   "metadata": {
    "execution": {
     "iopub.execute_input": "2022-09-18T11:42:36.662847Z",
     "iopub.status.busy": "2022-09-18T11:42:36.662527Z",
     "iopub.status.idle": "2022-09-18T11:42:36.671263Z",
     "shell.execute_reply": "2022-09-18T11:42:36.669955Z"
    },
    "papermill": {
     "duration": 0.017063,
     "end_time": "2022-09-18T11:42:36.673099",
     "exception": false,
     "start_time": "2022-09-18T11:42:36.656036",
     "status": "completed"
    },
    "tags": []
   },
   "outputs": [
    {
     "data": {
      "text/plain": [
       "PassengerId      0\n",
       "Survived         0\n",
       "Pclass           0\n",
       "Name             0\n",
       "Sex              0\n",
       "Age            177\n",
       "SibSp            0\n",
       "Parch            0\n",
       "Ticket           0\n",
       "Fare             0\n",
       "Cabin          687\n",
       "Embarked         2\n",
       "dtype: int64"
      ]
     },
     "execution_count": 7,
     "metadata": {},
     "output_type": "execute_result"
    }
   ],
   "source": [
    "df.isnull().sum()\n"
   ]
  },
  {
   "cell_type": "code",
   "execution_count": 8,
   "id": "f9282e7c",
   "metadata": {
    "execution": {
     "iopub.execute_input": "2022-09-18T11:42:36.685814Z",
     "iopub.status.busy": "2022-09-18T11:42:36.685280Z",
     "iopub.status.idle": "2022-09-18T11:42:36.712562Z",
     "shell.execute_reply": "2022-09-18T11:42:36.711245Z"
    },
    "papermill": {
     "duration": 0.036476,
     "end_time": "2022-09-18T11:42:36.714972",
     "exception": false,
     "start_time": "2022-09-18T11:42:36.678496",
     "status": "completed"
    },
    "tags": []
   },
   "outputs": [
    {
     "data": {
      "text/plain": [
       "PassengerId      0\n",
       "Survived         0\n",
       "Pclass           0\n",
       "Name             0\n",
       "Sex              0\n",
       "Age              0\n",
       "SibSp            0\n",
       "Parch            0\n",
       "Ticket           0\n",
       "Fare             0\n",
       "Cabin          687\n",
       "Embarked         0\n",
       "dtype: int64"
      ]
     },
     "execution_count": 8,
     "metadata": {},
     "output_type": "execute_result"
    }
   ],
   "source": [
    "imp = SimpleImputer(missing_values=np.nan, strategy='median')\n",
    "df=df.dropna(subset=['Embarked'])\n",
    "test=test.dropna(subset=['Embarked'])\n",
    "\n",
    "le = preprocessing.LabelEncoder()\n",
    "df[\"Embarked\"]=le.fit_transform(df[\"Embarked\"])\n",
    "df[\"Age\"]=imp.fit_transform(df[[\"Age\"]])\n",
    "test[\"Embarked\"]=le.fit_transform(test[\"Embarked\"])\n",
    "test[\"Age\"]=imp.fit_transform(test[[\"Age\"]])\n",
    "test[\"Fare\"]=imp.fit_transform(test[[\"Fare\"]])\n",
    "\n",
    "df.isnull().sum()"
   ]
  },
  {
   "cell_type": "code",
   "execution_count": 9,
   "id": "754ad1bc",
   "metadata": {
    "execution": {
     "iopub.execute_input": "2022-09-18T11:42:36.728304Z",
     "iopub.status.busy": "2022-09-18T11:42:36.727979Z",
     "iopub.status.idle": "2022-09-18T11:42:36.891362Z",
     "shell.execute_reply": "2022-09-18T11:42:36.890646Z"
    },
    "papermill": {
     "duration": 0.172067,
     "end_time": "2022-09-18T11:42:36.893207",
     "exception": false,
     "start_time": "2022-09-18T11:42:36.721140",
     "status": "completed"
    },
    "tags": []
   },
   "outputs": [
    {
     "data": {
      "text/plain": [
       "<BarContainer object of 2 artists>"
      ]
     },
     "execution_count": 9,
     "metadata": {},
     "output_type": "execute_result"
    },
    {
     "data": {
      "image/png": "[encoded data removed]",
      "text/plain": [
       "<Figure size 432x288 with 1 Axes>"
      ]
     },
     "metadata": {
      "needs_background": "light"
     },
     "output_type": "display_data"
    }
   ],
   "source": [
    "len(df[df[\"Sex\"]==0][\"Sex\"])\n",
    "\n",
    "plt.bar([\"man\",\"female\"],[len(df[df[\"Sex\"]==1][\"Sex\"]),len(df[df[\"Sex\"]==0][\"Sex\"])],color=[\"orange\",\"blue\"])"
   ]
  },
  {
   "cell_type": "code",
   "execution_count": 10,
   "id": "4fd04a78",
   "metadata": {
    "execution": {
     "iopub.execute_input": "2022-09-18T11:42:36.910742Z",
     "iopub.status.busy": "2022-09-18T11:42:36.910388Z",
     "iopub.status.idle": "2022-09-18T11:42:37.022413Z",
     "shell.execute_reply": "2022-09-18T11:42:37.021543Z"
    },
    "papermill": {
     "duration": 0.122496,
     "end_time": "2022-09-18T11:42:37.024498",
     "exception": false,
     "start_time": "2022-09-18T11:42:36.902002",
     "status": "completed"
    },
    "tags": []
   },
   "outputs": [
    {
     "data": {
      "text/plain": [
       "<BarContainer object of 2 artists>"
      ]
     },
     "execution_count": 10,
     "metadata": {},
     "output_type": "execute_result"
    },
    {
     "data": {
      "image/png": "[encoded data removed]",
      "text/plain": [
       "<Figure size 432x288 with 1 Axes>"
      ]
     },
     "metadata": {
      "needs_background": "light"
     },
     "output_type": "display_data"
    }
   ],
   "source": [
    "plt.bar([\"Survived\",\"Dead\"],[len(df[df[\"Survived\"]==1][\"Survived\"]),len(df[df[\"Survived\"]==0][\"Survived\"])],color=[\"blue\",\"red\"])"
   ]
  },
  {
   "cell_type": "code",
   "execution_count": 11,
   "id": "d8416a57",
   "metadata": {
    "execution": {
     "iopub.execute_input": "2022-09-18T11:42:37.043995Z",
     "iopub.status.busy": "2022-09-18T11:42:37.043575Z",
     "iopub.status.idle": "2022-09-18T11:42:37.548999Z",
     "shell.execute_reply": "2022-09-18T11:42:37.547276Z"
    },
    "papermill": {
     "duration": 0.51737,
     "end_time": "2022-09-18T11:42:37.550761",
     "exception": false,
     "start_time": "2022-09-18T11:42:37.033391",
     "status": "completed"
    },
    "tags": []
   },
   "outputs": [
    {
     "data": {
      "text/plain": [
       "<AxesSubplot:>"
      ]
     },
     "execution_count": 11,
     "metadata": {},
     "output_type": "execute_result"
    },
    {
     "data": {
      "image/png": "[encoded data removed]",
      "text/plain": [
       "<Figure size 432x288 with 2 Axes>"
      ]
     },
     "metadata": {
      "needs_background": "light"
     },
     "output_type": "display_data"
    }
   ],
   "source": [
    "sns.heatmap(df.corr(),annot=True)"
   ]
  },
  {
   "cell_type": "code",
   "execution_count": 12,
   "id": "397e27b6",
   "metadata": {
    "execution": {
     "iopub.execute_input": "2022-09-18T11:42:37.566261Z",
     "iopub.status.busy": "2022-09-18T11:42:37.565854Z",
     "iopub.status.idle": "2022-09-18T11:42:37.571528Z",
     "shell.execute_reply": "2022-09-18T11:42:37.570453Z"
    },
    "papermill": {
     "duration": 0.015663,
     "end_time": "2022-09-18T11:42:37.573440",
     "exception": false,
     "start_time": "2022-09-18T11:42:37.557777",
     "status": "completed"
    },
    "tags": []
   },
   "outputs": [],
   "source": [
    "def convert_scaler(data):\n",
    "    scaler=StandardScaler()\n",
    "    r=scaler.fit(data).transform(data)\n",
    "    return r\n",
    "    "
   ]
  },
  {
   "cell_type": "code",
   "execution_count": 13,
   "id": "ed972711",
   "metadata": {
    "execution": {
     "iopub.execute_input": "2022-09-18T11:42:37.589500Z",
     "iopub.status.busy": "2022-09-18T11:42:37.588993Z",
     "iopub.status.idle": "2022-09-18T11:42:37.627024Z",
     "shell.execute_reply": "2022-09-18T11:42:37.625747Z"
    },
    "papermill": {
     "duration": 0.049248,
     "end_time": "2022-09-18T11:42:37.629873",
     "exception": false,
     "start_time": "2022-09-18T11:42:37.580625",
     "status": "completed"
    },
    "tags": []
   },
   "outputs": [],
   "source": [
    "df[\"Fare\"]=convert_scaler(df[[\"Fare\"]])\n",
    "df[\"Parch\"]=convert_scaler(df[[\"Parch\"]])\n",
    "df[\"Age\"]=convert_scaler(df[[\"Age\"]])\n",
    "df[\"Pclass\"]=convert_scaler(df[[\"Pclass\"]])\n",
    "df[\"SibSp\"]=convert_scaler(df[[\"SibSp\"]])\n",
    "\n",
    "test[\"Fare\"]=convert_scaler(test[[\"Fare\"]])\n",
    "test[\"Parch\"]=convert_scaler(test[[\"Parch\"]])\n",
    "test[\"Age\"]=convert_scaler(test[[\"Age\"]])\n",
    "test[\"Pclass\"]=convert_scaler(test[[\"Pclass\"]])\n",
    "test[\"SibSp\"]=convert_scaler(test[[\"SibSp\"]])"
   ]
  },
  {
   "cell_type": "code",
   "execution_count": 14,
   "id": "451d195a",
   "metadata": {
    "execution": {
     "iopub.execute_input": "2022-09-18T11:42:37.645939Z",
     "iopub.status.busy": "2022-09-18T11:42:37.645627Z",
     "iopub.status.idle": "2022-09-18T11:42:37.669966Z",
     "shell.execute_reply": "2022-09-18T11:42:37.668938Z"
    },
    "papermill": {
     "duration": 0.035733,
     "end_time": "2022-09-18T11:42:37.672706",
     "exception": false,
     "start_time": "2022-09-18T11:42:37.636973",
     "status": "completed"
    },
    "tags": []
   },
   "outputs": [
    {
     "data": {
      "text/html": [
       "<div>\n",
       "<style scoped>\n",
       "    .dataframe tbody tr th:only-of-type {\n",
       "        vertical-align: middle;\n",
       "    }\n",
       "\n",
       "    .dataframe tbody tr th {\n",
       "        vertical-align: top;\n",
       "    }\n",
       "\n",
       "    .dataframe thead th {\n",
       "        text-align: right;\n",
       "    }\n",
       "</style>\n",
       "<table border=\"1\" class=\"dataframe\">\n",
       "  <thead>\n",
       "    <tr style=\"text-align: right;\">\n",
       "      <th></th>\n",
       "      <th>PassengerId</th>\n",
       "      <th>Survived</th>\n",
       "      <th>Pclass</th>\n",
       "      <th>Name</th>\n",
       "      <th>Sex</th>\n",
       "      <th>Age</th>\n",
       "      <th>SibSp</th>\n",
       "      <th>Parch</th>\n",
       "      <th>Ticket</th>\n",
       "      <th>Fare</th>\n",
       "      <th>Cabin</th>\n",
       "      <th>Embarked</th>\n",
       "    </tr>\n",
       "  </thead>\n",
       "  <tbody>\n",
       "    <tr>\n",
       "      <th>0</th>\n",
       "      <td>1</td>\n",
       "      <td>0</td>\n",
       "      <td>0.825209</td>\n",
       "      <td>Braund, Mr. Owen Harris</td>\n",
       "      <td>1</td>\n",
       "      <td>-0.563674</td>\n",
       "      <td>0.431350</td>\n",
       "      <td>-0.474326</td>\n",
       "      <td>A/5 21171</td>\n",
       "      <td>-0.500240</td>\n",
       "      <td>NaN</td>\n",
       "      <td>2</td>\n",
       "    </tr>\n",
       "    <tr>\n",
       "      <th>1</th>\n",
       "      <td>2</td>\n",
       "      <td>1</td>\n",
       "      <td>-1.572211</td>\n",
       "      <td>Cumings, Mrs. John Bradley (Florence Briggs Th...</td>\n",
       "      <td>0</td>\n",
       "      <td>0.669217</td>\n",
       "      <td>0.431350</td>\n",
       "      <td>-0.474326</td>\n",
       "      <td>PC 17599</td>\n",
       "      <td>0.788947</td>\n",
       "      <td>C85</td>\n",
       "      <td>0</td>\n",
       "    </tr>\n",
       "    <tr>\n",
       "      <th>2</th>\n",
       "      <td>3</td>\n",
       "      <td>1</td>\n",
       "      <td>0.825209</td>\n",
       "      <td>Heikkinen, Miss. Laina</td>\n",
       "      <td>0</td>\n",
       "      <td>-0.255451</td>\n",
       "      <td>-0.475199</td>\n",
       "      <td>-0.474326</td>\n",
       "      <td>STON/O2. 3101282</td>\n",
       "      <td>-0.486650</td>\n",
       "      <td>NaN</td>\n",
       "      <td>2</td>\n",
       "    </tr>\n",
       "    <tr>\n",
       "      <th>3</th>\n",
       "      <td>4</td>\n",
       "      <td>1</td>\n",
       "      <td>-1.572211</td>\n",
       "      <td>Futrelle, Mrs. Jacques Heath (Lily May Peel)</td>\n",
       "      <td>0</td>\n",
       "      <td>0.438050</td>\n",
       "      <td>0.431350</td>\n",
       "      <td>-0.474326</td>\n",
       "      <td>113803</td>\n",
       "      <td>0.422861</td>\n",
       "      <td>C123</td>\n",
       "      <td>2</td>\n",
       "    </tr>\n",
       "    <tr>\n",
       "      <th>4</th>\n",
       "      <td>5</td>\n",
       "      <td>0</td>\n",
       "      <td>0.825209</td>\n",
       "      <td>Allen, Mr. William Henry</td>\n",
       "      <td>1</td>\n",
       "      <td>0.438050</td>\n",
       "      <td>-0.475199</td>\n",
       "      <td>-0.474326</td>\n",
       "      <td>373450</td>\n",
       "      <td>-0.484133</td>\n",
       "      <td>NaN</td>\n",
       "      <td>2</td>\n",
       "    </tr>\n",
       "    <tr>\n",
       "      <th>...</th>\n",
       "      <td>...</td>\n",
       "      <td>...</td>\n",
       "      <td>...</td>\n",
       "      <td>...</td>\n",
       "      <td>...</td>\n",
       "      <td>...</td>\n",
       "      <td>...</td>\n",
       "      <td>...</td>\n",
       "      <td>...</td>\n",
       "      <td>...</td>\n",
       "      <td>...</td>\n",
       "      <td>...</td>\n",
       "    </tr>\n",
       "    <tr>\n",
       "      <th>886</th>\n",
       "      <td>887</td>\n",
       "      <td>0</td>\n",
       "      <td>-0.373501</td>\n",
       "      <td>Montvila, Rev. Juozas</td>\n",
       "      <td>1</td>\n",
       "      <td>-0.178396</td>\n",
       "      <td>-0.475199</td>\n",
       "      <td>-0.474326</td>\n",
       "      <td>211536</td>\n",
       "      <td>-0.384475</td>\n",
       "      <td>NaN</td>\n",
       "      <td>2</td>\n",
       "    </tr>\n",
       "    <tr>\n",
       "      <th>887</th>\n",
       "      <td>888</td>\n",
       "      <td>1</td>\n",
       "      <td>-1.572211</td>\n",
       "      <td>Graham, Miss. Margaret Edith</td>\n",
       "      <td>0</td>\n",
       "      <td>-0.794841</td>\n",
       "      <td>-0.475199</td>\n",
       "      <td>-0.474326</td>\n",
       "      <td>112053</td>\n",
       "      <td>-0.042213</td>\n",
       "      <td>B42</td>\n",
       "      <td>2</td>\n",
       "    </tr>\n",
       "    <tr>\n",
       "      <th>888</th>\n",
       "      <td>889</td>\n",
       "      <td>0</td>\n",
       "      <td>0.825209</td>\n",
       "      <td>Johnston, Miss. Catherine Helen \"Carrie\"</td>\n",
       "      <td>0</td>\n",
       "      <td>-0.101340</td>\n",
       "      <td>0.431350</td>\n",
       "      <td>2.006119</td>\n",
       "      <td>W./C. 6607</td>\n",
       "      <td>-0.174084</td>\n",
       "      <td>NaN</td>\n",
       "      <td>2</td>\n",
       "    </tr>\n",
       "    <tr>\n",
       "      <th>889</th>\n",
       "      <td>890</td>\n",
       "      <td>1</td>\n",
       "      <td>-1.572211</td>\n",
       "      <td>Behr, Mr. Karl Howell</td>\n",
       "      <td>1</td>\n",
       "      <td>-0.255451</td>\n",
       "      <td>-0.475199</td>\n",
       "      <td>-0.474326</td>\n",
       "      <td>111369</td>\n",
       "      <td>-0.042213</td>\n",
       "      <td>C148</td>\n",
       "      <td>0</td>\n",
       "    </tr>\n",
       "    <tr>\n",
       "      <th>890</th>\n",
       "      <td>891</td>\n",
       "      <td>0</td>\n",
       "      <td>0.825209</td>\n",
       "      <td>Dooley, Mr. Patrick</td>\n",
       "      <td>1</td>\n",
       "      <td>0.206883</td>\n",
       "      <td>-0.475199</td>\n",
       "      <td>-0.474326</td>\n",
       "      <td>370376</td>\n",
       "      <td>-0.490173</td>\n",
       "      <td>NaN</td>\n",
       "      <td>1</td>\n",
       "    </tr>\n",
       "  </tbody>\n",
       "</table>\n",
       "<p>889 rows × 12 columns</p>\n",
       "</div>"
      ],
      "text/plain": [
       "     PassengerId  Survived    Pclass  \\\n",
       "0              1         0  0.825209   \n",
       "1              2         1 -1.572211   \n",
       "2              3         1  0.825209   \n",
       "3              4         1 -1.572211   \n",
       "4              5         0  0.825209   \n",
       "..           ...       ...       ...   \n",
       "886          887         0 -0.373501   \n",
       "887          888         1 -1.572211   \n",
       "888          889         0  0.825209   \n",
       "889          890         1 -1.572211   \n",
       "890          891         0  0.825209   \n",
       "\n",
       "                                                  Name  Sex       Age  \\\n",
       "0                              Braund, Mr. Owen Harris    1 -0.563674   \n",
       "1    Cumings, Mrs. John Bradley (Florence Briggs Th...    0  0.669217   \n",
       "2                               Heikkinen, Miss. Laina    0 -0.255451   \n",
       "3         Futrelle, Mrs. Jacques Heath (Lily May Peel)    0  0.438050   \n",
       "4                             Allen, Mr. William Henry    1  0.438050   \n",
       "..                                                 ...  ...       ...   \n",
       "886                              Montvila, Rev. Juozas    1 -0.178396   \n",
       "887                       Graham, Miss. Margaret Edith    0 -0.794841   \n",
       "888           Johnston, Miss. Catherine Helen \"Carrie\"    0 -0.101340   \n",
       "889                              Behr, Mr. Karl Howell    1 -0.255451   \n",
       "890                                Dooley, Mr. Patrick    1  0.206883   \n",
       "\n",
       "        SibSp     Parch            Ticket      Fare Cabin  Embarked  \n",
       "0    0.431350 -0.474326         A/5 21171 -0.500240   NaN         2  \n",
       "1    0.431350 -0.474326          PC 17599  0.788947   C85         0  \n",
       "2   -0.475199 -0.474326  STON/O2. 3101282 -0.486650   NaN         2  \n",
       "3    0.431350 -0.474326            113803  0.422861  C123         2  \n",
       "4   -0.475199 -0.474326            373450 -0.484133   NaN         2  \n",
       "..        ...       ...               ...       ...   ...       ...  \n",
       "886 -0.475199 -0.474326            211536 -0.384475   NaN         2  \n",
       "887 -0.475199 -0.474326            112053 -0.042213   B42         2  \n",
       "888  0.431350  2.006119        W./C. 6607 -0.174084   NaN         2  \n",
       "889 -0.475199 -0.474326            111369 -0.042213  C148         0  \n",
       "890 -0.475199 -0.474326            370376 -0.490173   NaN         1  \n",
       "\n",
       "[889 rows x 12 columns]"
      ]
     },
     "execution_count": 14,
     "metadata": {},
     "output_type": "execute_result"
    }
   ],
   "source": [
    "df"
   ]
  },
  {
   "cell_type": "markdown",
   "id": "5c59a659",
   "metadata": {
    "papermill": {
     "duration": 0.006915,
     "end_time": "2022-09-18T11:42:37.686789",
     "exception": false,
     "start_time": "2022-09-18T11:42:37.679874",
     "status": "completed"
    },
    "tags": []
   },
   "source": [
    "Run Model"
   ]
  },
  {
   "cell_type": "code",
   "execution_count": 15,
   "id": "02ff0e94",
   "metadata": {
    "execution": {
     "iopub.execute_input": "2022-09-18T11:42:37.703804Z",
     "iopub.status.busy": "2022-09-18T11:42:37.703351Z",
     "iopub.status.idle": "2022-09-18T11:42:37.948232Z",
     "shell.execute_reply": "2022-09-18T11:42:37.947549Z"
    },
    "papermill": {
     "duration": 0.255752,
     "end_time": "2022-09-18T11:42:37.950325",
     "exception": false,
     "start_time": "2022-09-18T11:42:37.694573",
     "status": "completed"
    },
    "tags": []
   },
   "outputs": [],
   "source": [
    "\n",
    "features=['Survived', 'Pclass','Sex','Age', 'SibSp',\n",
    "       'Parch', 'Fare','Embarked']\n",
    "xgb_cl = xgb.XGBClassifier()\n",
    "xgb_cl.fit(df[features[1:]],df[features[0]])\n",
    "pred=xgb_cl.predict(test[features[1:]])"
   ]
  },
  {
   "cell_type": "code",
   "execution_count": 16,
   "id": "5be72272",
   "metadata": {
    "execution": {
     "iopub.execute_input": "2022-09-18T11:42:37.967912Z",
     "iopub.status.busy": "2022-09-18T11:42:37.967561Z",
     "iopub.status.idle": "2022-09-18T11:42:38.163506Z",
     "shell.execute_reply": "2022-09-18T11:42:38.162645Z"
    },
    "papermill": {
     "duration": 0.206245,
     "end_time": "2022-09-18T11:42:38.165333",
     "exception": false,
     "start_time": "2022-09-18T11:42:37.959088",
     "status": "completed"
    },
    "tags": []
   },
   "outputs": [
    {
     "data": {
      "text/plain": [
       "0.7412140575079874"
      ]
     },
     "execution_count": 16,
     "metadata": {},
     "output_type": "execute_result"
    },
    {
     "data": {
      "image/png": "[encoded data removed]",
      "text/plain": [
       "<Figure size 864x432 with 2 Axes>"
      ]
     },
     "metadata": {
      "needs_background": "light"
     },
     "output_type": "display_data"
    }
   ],
   "source": [
    "from sklearn.metrics import confusion_matrix, ConfusionMatrixDisplay\n",
    "cm = confusion_matrix(gender_submission[\"Survived\"], pred, labels=xgb_cl.classes_)\n",
    "disp = ConfusionMatrixDisplay(confusion_matrix=cm,display_labels=xgb_cl.classes_)\n",
    "plt.rcParams[\"figure.figsize\"] = (12, 6)\n",
    "disp.plot(cmap=plt.cm.Blues)\n",
    "f1_score(gender_submission[\"Survived\"], pred)"
   ]
  },
  {
   "cell_type": "code",
   "execution_count": 17,
   "id": "6baf29c6",
   "metadata": {
    "execution": {
     "iopub.execute_input": "2022-09-18T11:42:38.183695Z",
     "iopub.status.busy": "2022-09-18T11:42:38.183099Z",
     "iopub.status.idle": "2022-09-18T11:42:38.233165Z",
     "shell.execute_reply": "2022-09-18T11:42:38.231741Z"
    },
    "papermill": {
     "duration": 0.062969,
     "end_time": "2022-09-18T11:42:38.235943",
     "exception": false,
     "start_time": "2022-09-18T11:42:38.172974",
     "status": "completed"
    },
    "tags": []
   },
   "outputs": [],
   "source": [
    "\n",
    "SVM = svm.SVC()\n",
    "SVM.fit(df[features[1:]],df[features[0]])\n",
    "SVM_pred=SVM.predict(test[features[1:]])"
   ]
  },
  {
   "cell_type": "code",
   "execution_count": 18,
   "id": "4f8c5f9a",
   "metadata": {
    "execution": {
     "iopub.execute_input": "2022-09-18T11:42:38.252728Z",
     "iopub.status.busy": "2022-09-18T11:42:38.252407Z",
     "iopub.status.idle": "2022-09-18T11:42:38.442561Z",
     "shell.execute_reply": "2022-09-18T11:42:38.441117Z"
    },
    "papermill": {
     "duration": 0.20112,
     "end_time": "2022-09-18T11:42:38.444698",
     "exception": false,
     "start_time": "2022-09-18T11:42:38.243578",
     "status": "completed"
    },
    "tags": []
   },
   "outputs": [
    {
     "data": {
      "text/plain": [
       "0.9250814332247558"
      ]
     },
     "execution_count": 18,
     "metadata": {},
     "output_type": "execute_result"
    },
    {
     "data": {
      "image/png": "[encoded data removed]",
      "text/plain": [
       "<Figure size 864x432 with 2 Axes>"
      ]
     },
     "metadata": {
      "needs_background": "light"
     },
     "output_type": "display_data"
    }
   ],
   "source": [
    "cm = confusion_matrix(gender_submission[\"Survived\"], SVM_pred, labels=SVM.classes_)\n",
    "disp = ConfusionMatrixDisplay(confusion_matrix=cm,display_labels=SVM.classes_)\n",
    "plt.rcParams[\"figure.figsize\"] = (12, 6)\n",
    "disp.plot(cmap=plt.cm.Blues)\n",
    "f1_score(gender_submission[\"Survived\"], SVM_pred)"
   ]
  },
  {
   "cell_type": "code",
   "execution_count": 19,
   "id": "2d97f159",
   "metadata": {
    "execution": {
     "iopub.execute_input": "2022-09-18T11:42:38.461539Z",
     "iopub.status.busy": "2022-09-18T11:42:38.461220Z",
     "iopub.status.idle": "2022-09-18T11:42:38.598829Z",
     "shell.execute_reply": "2022-09-18T11:42:38.597736Z"
    },
    "papermill": {
     "duration": 0.148655,
     "end_time": "2022-09-18T11:42:38.601069",
     "exception": false,
     "start_time": "2022-09-18T11:42:38.452414",
     "status": "completed"
    },
    "tags": []
   },
   "outputs": [],
   "source": [
    "RFC = RandomForestClassifier(max_depth=2,random_state=0)\n",
    "RFC.fit(df[features[1:]],df[features[0]])\n",
    "RFC_pred=RFC.predict(test[features[1:]])"
   ]
  },
  {
   "cell_type": "code",
   "execution_count": 20,
   "id": "2d47a4fb",
   "metadata": {
    "execution": {
     "iopub.execute_input": "2022-09-18T11:42:38.618604Z",
     "iopub.status.busy": "2022-09-18T11:42:38.618111Z",
     "iopub.status.idle": "2022-09-18T11:42:38.802935Z",
     "shell.execute_reply": "2022-09-18T11:42:38.802138Z"
    },
    "papermill": {
     "duration": 0.196337,
     "end_time": "2022-09-18T11:42:38.805252",
     "exception": false,
     "start_time": "2022-09-18T11:42:38.608915",
     "status": "completed"
    },
    "tags": []
   },
   "outputs": [
    {
     "data": {
      "text/plain": [
       "0.7710843373493976"
      ]
     },
     "execution_count": 20,
     "metadata": {},
     "output_type": "execute_result"
    },
    {
     "data": {
      "image/png": "[encoded data removed]",
      "text/plain": [
       "<Figure size 864x432 with 2 Axes>"
      ]
     },
     "metadata": {
      "needs_background": "light"
     },
     "output_type": "display_data"
    }
   ],
   "source": [
    "cm = confusion_matrix(gender_submission[\"Survived\"], RFC_pred, labels=RFC.classes_)\n",
    "disp = ConfusionMatrixDisplay(confusion_matrix=cm,display_labels=RFC.classes_)\n",
    "plt.rcParams[\"figure.figsize\"] = (12, 6)\n",
    "disp.plot(cmap=plt.cm.Blues)\n",
    "f1_score(gender_submission[\"Survived\"], RFC_pred)"
   ]
  }
 ],
 "metadata": {
  "kernelspec": {
   "display_name": "Python 3",
   "language": "python",
   "name": "python3"
  },
  "language_info": {
   "codemirror_mode": {
    "name": "ipython",
    "version": 3
   },
   "file_extension": ".py",
   "mimetype": "text/x-python",
   "name": "python",
   "nbconvert_exporter": "python",
   "pygments_lexer": "ipython3",
   "version": "3.7.12"
  },
  "papermill": {
   "default_parameters": {},
   "duration": 13.011929,
   "end_time": "2022-09-18T11:42:39.535926",
   "environment_variables": {},
   "exception": null,
   "input_path": "__notebook__.ipynb",
   "output_path": "__notebook__.ipynb",
   "parameters": {},
   "start_time": "2022-09-18T11:42:26.523997",
   "version": "2.3.4"
  }
 },
 "nbformat": 4,
 "nbformat_minor": 5
}
