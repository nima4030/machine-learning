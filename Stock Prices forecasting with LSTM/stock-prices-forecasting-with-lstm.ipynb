{
 "cells": [
  {
   "cell_type": "code",
   "execution_count": 1,
   "id": "3fad4997",
   "metadata": {
    "execution": {
     "iopub.execute_input": "2022-09-19T09:39:15.472891Z",
     "iopub.status.busy": "2022-09-19T09:39:15.472466Z",
     "iopub.status.idle": "2022-09-19T09:39:23.143855Z",
     "shell.execute_reply": "2022-09-19T09:39:23.142562Z"
    },
    "papermill": {
     "duration": 7.680802,
     "end_time": "2022-09-19T09:39:23.146702",
     "exception": false,
     "start_time": "2022-09-19T09:39:15.465900",
     "status": "completed"
    },
    "tags": []
   },
   "outputs": [],
   "source": [
    "import numpy as np\n",
    "import pandas as pd\n",
    "\n",
    "import os\n",
    "import matplotlib.pyplot as plt\n",
    "import datetime as dt\n",
    "import warnings \n",
    "from sklearn.preprocessing import MinMaxScaler\n",
    "from tensorflow.keras.models import Sequential\n",
    "from tensorflow.keras.layers import Dense, Dropout, LSTM\n",
    "from tensorflow.keras.callbacks import ModelCheckpoint, EarlyStopping\n",
    "from sklearn.preprocessing import StandardScaler\n",
    "warnings.filterwarnings('ignore')"
   ]
  },
  {
   "cell_type": "code",
   "execution_count": 2,
   "id": "0bfa84cf",
   "metadata": {
    "execution": {
     "iopub.execute_input": "2022-09-19T09:39:23.156859Z",
     "iopub.status.busy": "2022-09-19T09:39:23.156149Z",
     "iopub.status.idle": "2022-09-19T09:39:23.287649Z",
     "shell.execute_reply": "2022-09-19T09:39:23.286797Z"
    },
    "papermill": {
     "duration": 0.139648,
     "end_time": "2022-09-19T09:39:23.290503",
     "exception": false,
     "start_time": "2022-09-19T09:39:23.150855",
     "status": "completed"
    },
    "tags": []
   },
   "outputs": [
    {
     "data": {
      "text/html": [
       "<div>\n",
       "<style scoped>\n",
       "    .dataframe tbody tr th:only-of-type {\n",
       "        vertical-align: middle;\n",
       "    }\n",
       "\n",
       "    .dataframe tbody tr th {\n",
       "        vertical-align: top;\n",
       "    }\n",
       "\n",
       "    .dataframe thead th {\n",
       "        text-align: right;\n",
       "    }\n",
       "</style>\n",
       "<table border=\"1\" class=\"dataframe\">\n",
       "  <thead>\n",
       "    <tr style=\"text-align: right;\">\n",
       "      <th></th>\n",
       "      <th>Date</th>\n",
       "      <th>Open</th>\n",
       "      <th>High</th>\n",
       "      <th>Low</th>\n",
       "      <th>Close</th>\n",
       "      <th>Adj Close</th>\n",
       "      <th>Volume</th>\n",
       "    </tr>\n",
       "  </thead>\n",
       "  <tbody>\n",
       "    <tr>\n",
       "      <th>0</th>\n",
       "      <td>2019-05-10</td>\n",
       "      <td>42.000000</td>\n",
       "      <td>45.000000</td>\n",
       "      <td>41.060001</td>\n",
       "      <td>41.570000</td>\n",
       "      <td>41.570000</td>\n",
       "      <td>186322500</td>\n",
       "    </tr>\n",
       "    <tr>\n",
       "      <th>1</th>\n",
       "      <td>2019-05-13</td>\n",
       "      <td>38.790001</td>\n",
       "      <td>39.240002</td>\n",
       "      <td>36.080002</td>\n",
       "      <td>37.099998</td>\n",
       "      <td>37.099998</td>\n",
       "      <td>79442400</td>\n",
       "    </tr>\n",
       "    <tr>\n",
       "      <th>2</th>\n",
       "      <td>2019-05-14</td>\n",
       "      <td>38.310001</td>\n",
       "      <td>39.959999</td>\n",
       "      <td>36.849998</td>\n",
       "      <td>39.959999</td>\n",
       "      <td>39.959999</td>\n",
       "      <td>46661100</td>\n",
       "    </tr>\n",
       "    <tr>\n",
       "      <th>3</th>\n",
       "      <td>2019-05-15</td>\n",
       "      <td>39.369999</td>\n",
       "      <td>41.880001</td>\n",
       "      <td>38.950001</td>\n",
       "      <td>41.290001</td>\n",
       "      <td>41.290001</td>\n",
       "      <td>36086100</td>\n",
       "    </tr>\n",
       "    <tr>\n",
       "      <th>4</th>\n",
       "      <td>2019-05-16</td>\n",
       "      <td>41.480000</td>\n",
       "      <td>44.060001</td>\n",
       "      <td>41.250000</td>\n",
       "      <td>43.000000</td>\n",
       "      <td>43.000000</td>\n",
       "      <td>38115500</td>\n",
       "    </tr>\n",
       "    <tr>\n",
       "      <th>...</th>\n",
       "      <td>...</td>\n",
       "      <td>...</td>\n",
       "      <td>...</td>\n",
       "      <td>...</td>\n",
       "      <td>...</td>\n",
       "      <td>...</td>\n",
       "      <td>...</td>\n",
       "    </tr>\n",
       "    <tr>\n",
       "      <th>600</th>\n",
       "      <td>2021-09-27</td>\n",
       "      <td>46.770000</td>\n",
       "      <td>47.430000</td>\n",
       "      <td>46.189999</td>\n",
       "      <td>47.250000</td>\n",
       "      <td>47.250000</td>\n",
       "      <td>23034800</td>\n",
       "    </tr>\n",
       "    <tr>\n",
       "      <th>601</th>\n",
       "      <td>2021-09-28</td>\n",
       "      <td>46.700001</td>\n",
       "      <td>47.000000</td>\n",
       "      <td>45.759998</td>\n",
       "      <td>45.980000</td>\n",
       "      <td>45.980000</td>\n",
       "      <td>23707900</td>\n",
       "    </tr>\n",
       "    <tr>\n",
       "      <th>602</th>\n",
       "      <td>2021-09-29</td>\n",
       "      <td>46.000000</td>\n",
       "      <td>46.529999</td>\n",
       "      <td>44.299999</td>\n",
       "      <td>44.520000</td>\n",
       "      <td>44.520000</td>\n",
       "      <td>24599500</td>\n",
       "    </tr>\n",
       "    <tr>\n",
       "      <th>603</th>\n",
       "      <td>2021-09-30</td>\n",
       "      <td>44.709999</td>\n",
       "      <td>45.365002</td>\n",
       "      <td>43.860001</td>\n",
       "      <td>44.799999</td>\n",
       "      <td>44.799999</td>\n",
       "      <td>16650600</td>\n",
       "    </tr>\n",
       "    <tr>\n",
       "      <th>604</th>\n",
       "      <td>2021-10-01</td>\n",
       "      <td>45.915001</td>\n",
       "      <td>47.250000</td>\n",
       "      <td>45.790001</td>\n",
       "      <td>47.049999</td>\n",
       "      <td>47.049999</td>\n",
       "      <td>25428283</td>\n",
       "    </tr>\n",
       "  </tbody>\n",
       "</table>\n",
       "<p>605 rows × 7 columns</p>\n",
       "</div>"
      ],
      "text/plain": [
       "           Date       Open       High        Low      Close  Adj Close  \\\n",
       "0    2019-05-10  42.000000  45.000000  41.060001  41.570000  41.570000   \n",
       "1    2019-05-13  38.790001  39.240002  36.080002  37.099998  37.099998   \n",
       "2    2019-05-14  38.310001  39.959999  36.849998  39.959999  39.959999   \n",
       "3    2019-05-15  39.369999  41.880001  38.950001  41.290001  41.290001   \n",
       "4    2019-05-16  41.480000  44.060001  41.250000  43.000000  43.000000   \n",
       "..          ...        ...        ...        ...        ...        ...   \n",
       "600  2021-09-27  46.770000  47.430000  46.189999  47.250000  47.250000   \n",
       "601  2021-09-28  46.700001  47.000000  45.759998  45.980000  45.980000   \n",
       "602  2021-09-29  46.000000  46.529999  44.299999  44.520000  44.520000   \n",
       "603  2021-09-30  44.709999  45.365002  43.860001  44.799999  44.799999   \n",
       "604  2021-10-01  45.915001  47.250000  45.790001  47.049999  47.049999   \n",
       "\n",
       "        Volume  \n",
       "0    186322500  \n",
       "1     79442400  \n",
       "2     46661100  \n",
       "3     36086100  \n",
       "4     38115500  \n",
       "..         ...  \n",
       "600   23034800  \n",
       "601   23707900  \n",
       "602   24599500  \n",
       "603   16650600  \n",
       "604   25428283  \n",
       "\n",
       "[605 rows x 7 columns]"
      ]
     },
     "execution_count": 2,
     "metadata": {},
     "output_type": "execute_result"
    }
   ],
   "source": [
    "df = pd.read_csv(\"../input/uber-database/UBER.csv\")\n",
    "train_data=df[:485]\n",
    "test_data=df[485:]\n",
    "df"
   ]
  },
  {
   "cell_type": "code",
   "execution_count": 3,
   "id": "b0d73457",
   "metadata": {
    "execution": {
     "iopub.execute_input": "2022-09-19T09:39:23.301048Z",
     "iopub.status.busy": "2022-09-19T09:39:23.300034Z",
     "iopub.status.idle": "2022-09-19T09:39:23.328073Z",
     "shell.execute_reply": "2022-09-19T09:39:23.326903Z"
    },
    "papermill": {
     "duration": 0.036009,
     "end_time": "2022-09-19T09:39:23.330714",
     "exception": false,
     "start_time": "2022-09-19T09:39:23.294705",
     "status": "completed"
    },
    "tags": []
   },
   "outputs": [
    {
     "name": "stdout",
     "output_type": "stream",
     "text": [
      "<class 'pandas.core.frame.DataFrame'>\n",
      "RangeIndex: 605 entries, 0 to 604\n",
      "Data columns (total 7 columns):\n",
      " #   Column     Non-Null Count  Dtype  \n",
      "---  ------     --------------  -----  \n",
      " 0   Date       605 non-null    object \n",
      " 1   Open       605 non-null    float64\n",
      " 2   High       605 non-null    float64\n",
      " 3   Low        605 non-null    float64\n",
      " 4   Close      605 non-null    float64\n",
      " 5   Adj Close  605 non-null    float64\n",
      " 6   Volume     605 non-null    int64  \n",
      "dtypes: float64(5), int64(1), object(1)\n",
      "memory usage: 33.2+ KB\n"
     ]
    }
   ],
   "source": [
    "df.info()"
   ]
  },
  {
   "cell_type": "code",
   "execution_count": 4,
   "id": "434ded59",
   "metadata": {
    "execution": {
     "iopub.execute_input": "2022-09-19T09:39:23.341704Z",
     "iopub.status.busy": "2022-09-19T09:39:23.340573Z",
     "iopub.status.idle": "2022-09-19T09:39:23.348492Z",
     "shell.execute_reply": "2022-09-19T09:39:23.347130Z"
    },
    "papermill": {
     "duration": 0.015925,
     "end_time": "2022-09-19T09:39:23.351017",
     "exception": false,
     "start_time": "2022-09-19T09:39:23.335092",
     "status": "completed"
    },
    "tags": []
   },
   "outputs": [],
   "source": [
    "scaler=StandardScaler()\n",
    "scaled_data=scaler.fit(np.array(train_data[\"Close\"]).reshape(-1, 1)).transform(np.array(train_data[\"Close\"]).reshape(-1, 1))"
   ]
  },
  {
   "cell_type": "code",
   "execution_count": 5,
   "id": "b21c3b74",
   "metadata": {
    "execution": {
     "iopub.execute_input": "2022-09-19T09:39:23.361150Z",
     "iopub.status.busy": "2022-09-19T09:39:23.360738Z",
     "iopub.status.idle": "2022-09-19T09:39:23.369381Z",
     "shell.execute_reply": "2022-09-19T09:39:23.368210Z"
    },
    "papermill": {
     "duration": 0.016274,
     "end_time": "2022-09-19T09:39:23.371739",
     "exception": false,
     "start_time": "2022-09-19T09:39:23.355465",
     "status": "completed"
    },
    "tags": []
   },
   "outputs": [],
   "source": [
    "# how many days do i want to base my predictions on ?\n",
    "prediction_days = 60\n",
    "\n",
    "x_train = []\n",
    "y_train = []\n",
    "\n",
    "for x in range(prediction_days, len(scaled_data)):\n",
    "    x_train.append(scaled_data[x - prediction_days:x, 0])\n",
    "    y_train.append(scaled_data[x, 0])\n",
    "    \n",
    "x_train, y_train = np.array(x_train), np.array(y_train)\n",
    "x_train = np.reshape(x_train, (x_train.shape[0], x_train.shape[1], 1))"
   ]
  },
  {
   "cell_type": "code",
   "execution_count": 6,
   "id": "f9fd2545",
   "metadata": {
    "execution": {
     "iopub.execute_input": "2022-09-19T09:39:23.382313Z",
     "iopub.status.busy": "2022-09-19T09:39:23.381931Z",
     "iopub.status.idle": "2022-09-19T09:39:23.388766Z",
     "shell.execute_reply": "2022-09-19T09:39:23.387570Z"
    },
    "papermill": {
     "duration": 0.015052,
     "end_time": "2022-09-19T09:39:23.390934",
     "exception": false,
     "start_time": "2022-09-19T09:39:23.375882",
     "status": "completed"
    },
    "tags": []
   },
   "outputs": [],
   "source": [
    "def LSTM_model():\n",
    "    \n",
    "    model = Sequential()\n",
    "    \n",
    "    model.add(LSTM(units = 50, return_sequences = True, input_shape = (x_train.shape[1],1)))\n",
    "    model.add(Dropout(0.2))\n",
    "\n",
    "    model.add(LSTM(units = 50, return_sequences = True))\n",
    "    model.add(Dropout(0.2))\n",
    "\n",
    "    model.add(LSTM(units = 50))\n",
    "    model.add(Dropout(0.2))\n",
    "    \n",
    "    model.add(Dense(units=1))\n",
    "    \n",
    "    return model"
   ]
  },
  {
   "cell_type": "code",
   "execution_count": 7,
   "id": "3174e3bb",
   "metadata": {
    "execution": {
     "iopub.execute_input": "2022-09-19T09:39:23.400930Z",
     "iopub.status.busy": "2022-09-19T09:39:23.400559Z",
     "iopub.status.idle": "2022-09-19T09:40:17.721625Z",
     "shell.execute_reply": "2022-09-19T09:40:17.720331Z"
    },
    "papermill": {
     "duration": 54.328626,
     "end_time": "2022-09-19T09:40:17.723739",
     "exception": false,
     "start_time": "2022-09-19T09:39:23.395113",
     "status": "completed"
    },
    "tags": []
   },
   "outputs": [
    {
     "name": "stderr",
     "output_type": "stream",
     "text": [
      "2022-09-19 09:39:23.514799: I tensorflow/core/common_runtime/process_util.cc:146] Creating new thread pool with default inter op setting: 2. Tune using inter_op_parallelism_threads for best performance.\n"
     ]
    },
    {
     "name": "stdout",
     "output_type": "stream",
     "text": [
      "Model: \"sequential\"\n",
      "_________________________________________________________________\n",
      "Layer (type)                 Output Shape              Param #   \n",
      "=================================================================\n",
      "lstm (LSTM)                  (None, 60, 50)            10400     \n",
      "_________________________________________________________________\n",
      "dropout (Dropout)            (None, 60, 50)            0         \n",
      "_________________________________________________________________\n",
      "lstm_1 (LSTM)                (None, 60, 50)            20200     \n",
      "_________________________________________________________________\n",
      "dropout_1 (Dropout)          (None, 60, 50)            0         \n",
      "_________________________________________________________________\n",
      "lstm_2 (LSTM)                (None, 50)                20200     \n",
      "_________________________________________________________________\n",
      "dropout_2 (Dropout)          (None, 50)                0         \n",
      "_________________________________________________________________\n",
      "dense (Dense)                (None, 1)                 51        \n",
      "=================================================================\n",
      "Total params: 50,851\n",
      "Trainable params: 50,851\n",
      "Non-trainable params: 0\n",
      "_________________________________________________________________\n",
      "Epoch 1/25\n"
     ]
    },
    {
     "name": "stderr",
     "output_type": "stream",
     "text": [
      "2022-09-19 09:39:24.425491: I tensorflow/compiler/mlir/mlir_graph_optimization_pass.cc:185] None of the MLIR Optimization Passes are enabled (registered 2)\n"
     ]
    },
    {
     "name": "stdout",
     "output_type": "stream",
     "text": [
      "14/14 [==============================] - 8s 137ms/step - loss: 0.5109\n",
      "Epoch 2/25\n",
      "14/14 [==============================] - 2s 132ms/step - loss: 0.1955\n",
      "Epoch 3/25\n",
      "14/14 [==============================] - 2s 129ms/step - loss: 0.1472\n",
      "Epoch 4/25\n",
      "14/14 [==============================] - 2s 134ms/step - loss: 0.1213\n",
      "Epoch 5/25\n",
      "14/14 [==============================] - 2s 130ms/step - loss: 0.1140\n",
      "Epoch 6/25\n",
      "14/14 [==============================] - 2s 129ms/step - loss: 0.1168\n",
      "Epoch 7/25\n",
      "14/14 [==============================] - 2s 172ms/step - loss: 0.1057\n",
      "Epoch 8/25\n",
      "14/14 [==============================] - 2s 129ms/step - loss: 0.0974\n",
      "Epoch 9/25\n",
      "14/14 [==============================] - 2s 129ms/step - loss: 0.0867\n",
      "Epoch 10/25\n",
      "14/14 [==============================] - 2s 133ms/step - loss: 0.0961\n",
      "Epoch 11/25\n",
      "14/14 [==============================] - 2s 129ms/step - loss: 0.0930\n",
      "Epoch 12/25\n",
      "14/14 [==============================] - 2s 130ms/step - loss: 0.0892\n",
      "Epoch 13/25\n",
      "14/14 [==============================] - 2s 130ms/step - loss: 0.0855\n",
      "Epoch 14/25\n",
      "14/14 [==============================] - 2s 128ms/step - loss: 0.0861\n",
      "Epoch 15/25\n",
      "14/14 [==============================] - 2s 128ms/step - loss: 0.0962\n",
      "Epoch 16/25\n",
      "14/14 [==============================] - 2s 136ms/step - loss: 0.0860\n",
      "Epoch 17/25\n",
      "14/14 [==============================] - 2s 129ms/step - loss: 0.0794\n",
      "Epoch 18/25\n",
      "14/14 [==============================] - 2s 129ms/step - loss: 0.0802\n",
      "Epoch 19/25\n",
      "14/14 [==============================] - 2s 128ms/step - loss: 0.0751\n",
      "Epoch 20/25\n",
      "14/14 [==============================] - 2s 127ms/step - loss: 0.0758\n",
      "Epoch 21/25\n",
      "14/14 [==============================] - 2s 127ms/step - loss: 0.0765\n",
      "Epoch 22/25\n",
      "14/14 [==============================] - 2s 133ms/step - loss: 0.0768\n",
      "Epoch 23/25\n",
      "14/14 [==============================] - 2s 129ms/step - loss: 0.0729\n",
      "Epoch 24/25\n",
      "14/14 [==============================] - 2s 173ms/step - loss: 0.0764\n",
      "Epoch 25/25\n",
      "14/14 [==============================] - 2s 127ms/step - loss: 0.0702\n"
     ]
    },
    {
     "data": {
      "text/plain": [
       "<keras.callbacks.History at 0x7fab702e8710>"
      ]
     },
     "execution_count": 7,
     "metadata": {},
     "output_type": "execute_result"
    }
   ],
   "source": [
    "model = LSTM_model()\n",
    "model.summary()\n",
    "model.compile(optimizer='adam', loss='mean_squared_error')\n",
    "\n",
    "checkpointer = ModelCheckpoint(filepath = 'weights_best.hdf5', verbose = 2, save_best_only = True)\n",
    "\n",
    "model.fit(x_train, y_train,  epochs=25, batch_size = 32, callbacks = [checkpointer])\n"
   ]
  },
  {
   "cell_type": "code",
   "execution_count": 8,
   "id": "63b80781",
   "metadata": {
    "execution": {
     "iopub.execute_input": "2022-09-19T09:40:17.782763Z",
     "iopub.status.busy": "2022-09-19T09:40:17.782357Z",
     "iopub.status.idle": "2022-09-19T09:40:17.788540Z",
     "shell.execute_reply": "2022-09-19T09:40:17.787443Z"
    },
    "papermill": {
     "duration": 0.038544,
     "end_time": "2022-09-19T09:40:17.790906",
     "exception": false,
     "start_time": "2022-09-19T09:40:17.752362",
     "status": "completed"
    },
    "tags": []
   },
   "outputs": [],
   "source": [
    "actual_prices = test_data['Close'].values\n",
    "total_dataset = pd.concat((train_data['Close'], test_data['Close']), axis=0)"
   ]
  },
  {
   "cell_type": "code",
   "execution_count": 9,
   "id": "aff5645c",
   "metadata": {
    "execution": {
     "iopub.execute_input": "2022-09-19T09:40:17.848870Z",
     "iopub.status.busy": "2022-09-19T09:40:17.848466Z",
     "iopub.status.idle": "2022-09-19T09:40:17.854949Z",
     "shell.execute_reply": "2022-09-19T09:40:17.853743Z"
    },
    "papermill": {
     "duration": 0.037408,
     "end_time": "2022-09-19T09:40:17.857054",
     "exception": false,
     "start_time": "2022-09-19T09:40:17.819646",
     "status": "completed"
    },
    "tags": []
   },
   "outputs": [],
   "source": [
    "model_inputs = total_dataset[len(total_dataset) - len(test_data) - prediction_days:].values\n",
    "model_inputs = model_inputs.reshape(-1,1)\n",
    "model_inputs = scaler.transform(model_inputs)"
   ]
  },
  {
   "cell_type": "code",
   "execution_count": 10,
   "id": "710751e5",
   "metadata": {
    "execution": {
     "iopub.execute_input": "2022-09-19T09:40:17.913737Z",
     "iopub.status.busy": "2022-09-19T09:40:17.913345Z",
     "iopub.status.idle": "2022-09-19T09:40:17.920064Z",
     "shell.execute_reply": "2022-09-19T09:40:17.918956Z"
    },
    "papermill": {
     "duration": 0.03765,
     "end_time": "2022-09-19T09:40:17.922298",
     "exception": false,
     "start_time": "2022-09-19T09:40:17.884648",
     "status": "completed"
    },
    "tags": []
   },
   "outputs": [],
   "source": [
    "x_test = []\n",
    "for x in range(prediction_days, len(model_inputs)):\n",
    "    x_test.append(model_inputs[x-prediction_days:x, 0])\n",
    "\n",
    "x_test = np.array(x_test)\n",
    "x_test = np.reshape(x_test, (x_test.shape[0], x_test.shape[1] ,1))"
   ]
  },
  {
   "cell_type": "code",
   "execution_count": 11,
   "id": "17cf7df2",
   "metadata": {
    "execution": {
     "iopub.execute_input": "2022-09-19T09:40:17.980517Z",
     "iopub.status.busy": "2022-09-19T09:40:17.979854Z",
     "iopub.status.idle": "2022-09-19T09:40:19.367649Z",
     "shell.execute_reply": "2022-09-19T09:40:19.366396Z"
    },
    "papermill": {
     "duration": 1.419407,
     "end_time": "2022-09-19T09:40:19.370336",
     "exception": false,
     "start_time": "2022-09-19T09:40:17.950929",
     "status": "completed"
    },
    "tags": []
   },
   "outputs": [],
   "source": [
    "predicted_prices = model.predict(x_test)\n",
    "predicted_prices = scaler.inverse_transform(predicted_prices)"
   ]
  },
  {
   "cell_type": "code",
   "execution_count": 12,
   "id": "3233f169",
   "metadata": {
    "execution": {
     "iopub.execute_input": "2022-09-19T09:40:19.428196Z",
     "iopub.status.busy": "2022-09-19T09:40:19.427575Z",
     "iopub.status.idle": "2022-09-19T09:40:19.715177Z",
     "shell.execute_reply": "2022-09-19T09:40:19.714343Z"
    },
    "papermill": {
     "duration": 0.320144,
     "end_time": "2022-09-19T09:40:19.718265",
     "exception": false,
     "start_time": "2022-09-19T09:40:19.398121",
     "status": "completed"
    },
    "tags": []
   },
   "outputs": [
    {
     "data": {
      "image/png": "[encoded data removed]",
      "text/plain": [
       "<Figure size 1440x864 with 1 Axes>"
      ]
     },
     "metadata": {
      "needs_background": "light"
     },
     "output_type": "display_data"
    }
   ],
   "source": [
    "plt.rcParams[\"figure.figsize\"] = (20, 12)\n",
    "plt.plot(actual_prices, color='black', label=f\"Actual UBER price\")\n",
    "plt.plot(predicted_prices, color= 'green', label=f\"predicted UBER price\")\n",
    "plt.title(f\"UBER share price\")\n",
    "plt.xlabel(\"time\")\n",
    "plt.ylabel(f\"UBER share price\")\n",
    "plt.legend()\n",
    "plt.show()"
   ]
  }
 ],
 "metadata": {
  "kernelspec": {
   "display_name": "Python 3",
   "language": "python",
   "name": "python3"
  },
  "language_info": {
   "codemirror_mode": {
    "name": "ipython",
    "version": 3
   },
   "file_extension": ".py",
   "mimetype": "text/x-python",
   "name": "python",
   "nbconvert_exporter": "python",
   "pygments_lexer": "ipython3",
   "version": "3.7.12"
  },
  "papermill": {
   "default_parameters": {},
   "duration": 77.211819,
   "end_time": "2022-09-19T09:40:23.283102",
   "environment_variables": {},
   "exception": null,
   "input_path": "__notebook__.ipynb",
   "output_path": "__notebook__.ipynb",
   "parameters": {},
   "start_time": "2022-09-19T09:39:06.071283",
   "version": "2.3.4"
  }
 },
 "nbformat": 4,
 "nbformat_minor": 5
}
