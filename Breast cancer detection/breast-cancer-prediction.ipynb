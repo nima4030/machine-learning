{
 "cells": [
  {
   "cell_type": "code",
   "execution_count": 1,
   "id": "171d108d",
   "metadata": {
    "_cell_guid": "b1076dfc-b9ad-4769-8c92-a6c4dae69d19",
    "_uuid": "8f2839f25d086af736a60e9eeb907d3b93b6e0e5",
    "execution": {
     "iopub.execute_input": "2022-09-19T12:14:56.683148Z",
     "iopub.status.busy": "2022-09-19T12:14:56.682626Z",
     "iopub.status.idle": "2022-09-19T12:14:58.196243Z",
     "shell.execute_reply": "2022-09-19T12:14:58.194974Z"
    },
    "papermill": {
     "duration": 1.523971,
     "end_time": "2022-09-19T12:14:58.199223",
     "exception": false,
     "start_time": "2022-09-19T12:14:56.675252",
     "status": "completed"
    },
    "tags": []
   },
   "outputs": [],
   "source": [
    "# visualization\n",
    "from ast import Str\n",
    "from cProfile import label\n",
    "import seaborn as sns\n",
    "import matplotlib.pyplot as plt\n",
    "import pandas as pd\n",
    "import numpy as np\n",
    "import random as rnd\n",
    "import os\n",
    "\n",
    "\n",
    "# machine learning\n",
    "from sklearn.model_selection import train_test_split\n",
    "from sklearn.metrics import r2_score\n",
    "from pandas.plotting import scatter_matrix\n",
    "from sklearn import linear_model\n",
    "from sklearn.preprocessing import LabelEncoder, StandardScaler\n",
    "from sklearn.decomposition import PCA\n",
    "from sklearn.linear_model import LogisticRegression\n",
    "plt.rcParams[\"figure.figsize\"] = (12, 6)"
   ]
  },
  {
   "cell_type": "code",
   "execution_count": 2,
   "id": "8f52a74d",
   "metadata": {
    "execution": {
     "iopub.execute_input": "2022-09-19T12:14:58.209839Z",
     "iopub.status.busy": "2022-09-19T12:14:58.209305Z",
     "iopub.status.idle": "2022-09-19T12:14:58.250273Z",
     "shell.execute_reply": "2022-09-19T12:14:58.248886Z"
    },
    "papermill": {
     "duration": 0.049397,
     "end_time": "2022-09-19T12:14:58.253085",
     "exception": false,
     "start_time": "2022-09-19T12:14:58.203688",
     "status": "completed"
    },
    "tags": []
   },
   "outputs": [],
   "source": [
    "df=pd.read_csv('../input/breast-cancer-wisconsin-data/data.csv')\n",
    "df=df.drop([\"Unnamed: 32\"],axis=1)"
   ]
  },
  {
   "cell_type": "code",
   "execution_count": 3,
   "id": "4c32e634",
   "metadata": {
    "execution": {
     "iopub.execute_input": "2022-09-19T12:14:58.264263Z",
     "iopub.status.busy": "2022-09-19T12:14:58.263447Z",
     "iopub.status.idle": "2022-09-19T12:14:58.273759Z",
     "shell.execute_reply": "2022-09-19T12:14:58.272485Z"
    },
    "papermill": {
     "duration": 0.01861,
     "end_time": "2022-09-19T12:14:58.276193",
     "exception": false,
     "start_time": "2022-09-19T12:14:58.257583",
     "status": "completed"
    },
    "tags": []
   },
   "outputs": [],
   "source": [
    "\n",
    "sns.set_theme(style=\"darkgrid\")\n",
    "def label_encoder(column):\n",
    "       encoder = preprocessing.LabelEncoder()\n",
    "       encoder.fit(column)\n",
    "       le=encoder.transform(column)\n",
    "       return le\n",
    "drop_columns=['id','radius_se', 'texture_se', 'perimeter_se', 'area_se', 'smoothness_se', 'compactness_se', 'concavity_se',\n",
    "'concave points_se', 'symmetry_se', 'fractal_dimension_se', 'radius_worst', 'texture_worst', 'perimeter_worst',\n",
    "'area_worst', 'smoothness_worst', 'compactness_worst', 'concavity_worst', 'concave points_worst', 'symmetry_worst',\n",
    "'fractal_dimension_worst']\n",
    "df.drop(drop_columns, axis=1, inplace = True)\n",
    "\n",
    "# Reset index of dataframe\n",
    "df = df.reset_index(drop = True)\n"
   ]
  },
  {
   "cell_type": "code",
   "execution_count": 4,
   "id": "ae651a63",
   "metadata": {
    "execution": {
     "iopub.execute_input": "2022-09-19T12:14:58.287031Z",
     "iopub.status.busy": "2022-09-19T12:14:58.286584Z",
     "iopub.status.idle": "2022-09-19T12:14:58.300865Z",
     "shell.execute_reply": "2022-09-19T12:14:58.299377Z"
    },
    "papermill": {
     "duration": 0.023484,
     "end_time": "2022-09-19T12:14:58.304149",
     "exception": false,
     "start_time": "2022-09-19T12:14:58.280665",
     "status": "completed"
    },
    "tags": []
   },
   "outputs": [],
   "source": [
    "encoder = LabelEncoder()\n",
    "# Apply encoder on column 'diagnosis'\n",
    "df['diagnosis'] = df[['diagnosis']].apply(encoder.fit_transform)\n",
    "\n",
    "\n",
    "# Take copy of the dataset\n",
    "df_copy = df.copy(deep = True)\n",
    "\n",
    "# Create X (feature set) and y (target) variables\n",
    "X = df.drop(['diagnosis'],axis=1)\n",
    "y = df['diagnosis'].to_frame()\n",
    "\n",
    "# Create X_copy variable\n",
    "X_copy = df_copy.drop(['diagnosis'],axis=1)\n"
   ]
  },
  {
   "cell_type": "code",
   "execution_count": 5,
   "id": "28df6818",
   "metadata": {
    "execution": {
     "iopub.execute_input": "2022-09-19T12:14:58.314652Z",
     "iopub.status.busy": "2022-09-19T12:14:58.314252Z",
     "iopub.status.idle": "2022-09-19T12:14:58.324014Z",
     "shell.execute_reply": "2022-09-19T12:14:58.323009Z"
    },
    "papermill": {
     "duration": 0.018014,
     "end_time": "2022-09-19T12:14:58.326538",
     "exception": false,
     "start_time": "2022-09-19T12:14:58.308524",
     "status": "completed"
    },
    "tags": []
   },
   "outputs": [],
   "source": [
    "# Instantiate Stander Scaler and fit and tranform feature variable set X\n",
    "scaler = StandardScaler(copy = True, with_mean = True, with_std = True)\n",
    "X_copy_scaled = pd.DataFrame(scaler.fit_transform(X_copy), columns=X_copy.columns)"
   ]
  },
  {
   "cell_type": "code",
   "execution_count": 6,
   "id": "132a2dce",
   "metadata": {
    "execution": {
     "iopub.execute_input": "2022-09-19T12:14:58.337487Z",
     "iopub.status.busy": "2022-09-19T12:14:58.336862Z",
     "iopub.status.idle": "2022-09-19T12:14:58.363087Z",
     "shell.execute_reply": "2022-09-19T12:14:58.362013Z"
    },
    "papermill": {
     "duration": 0.034854,
     "end_time": "2022-09-19T12:14:58.365883",
     "exception": false,
     "start_time": "2022-09-19T12:14:58.331029",
     "status": "completed"
    },
    "tags": []
   },
   "outputs": [],
   "source": [
    "# Reduce dimensions on the scaled dataset using PCA with 95% variance retained\n",
    "pca = PCA(n_components = 0.95)\n",
    "pca.fit(X_copy_scaled)\n",
    "X_copy_scaled = pca.transform(X_copy_scaled)\n",
    "X_copy_scaled = pd.DataFrame(X_copy_scaled)\n"
   ]
  },
  {
   "cell_type": "code",
   "execution_count": 7,
   "id": "37e5bf90",
   "metadata": {
    "execution": {
     "iopub.execute_input": "2022-09-19T12:14:58.376425Z",
     "iopub.status.busy": "2022-09-19T12:14:58.376025Z",
     "iopub.status.idle": "2022-09-19T12:14:58.563079Z",
     "shell.execute_reply": "2022-09-19T12:14:58.562014Z"
    },
    "papermill": {
     "duration": 0.195507,
     "end_time": "2022-09-19T12:14:58.565826",
     "exception": false,
     "start_time": "2022-09-19T12:14:58.370319",
     "status": "completed"
    },
    "tags": []
   },
   "outputs": [],
   "source": [
    "# Import libraries for Model training, prediction and evaluation\n",
    "from sklearn.tree import DecisionTreeClassifier\n",
    "from sklearn.svm import SVC\n",
    "from sklearn.metrics import accuracy_score, confusion_matrix, ConfusionMatrixDisplay\n",
    "from sklearn.model_selection import RandomizedSearchCV, cross_val_score\n",
    "import xgboost as xgb\n"
   ]
  },
  {
   "cell_type": "code",
   "execution_count": 8,
   "id": "57bfdc7d",
   "metadata": {
    "execution": {
     "iopub.execute_input": "2022-09-19T12:14:58.576313Z",
     "iopub.status.busy": "2022-09-19T12:14:58.575865Z",
     "iopub.status.idle": "2022-09-19T12:14:58.586614Z",
     "shell.execute_reply": "2022-09-19T12:14:58.585320Z"
    },
    "papermill": {
     "duration": 0.019064,
     "end_time": "2022-09-19T12:14:58.589287",
     "exception": false,
     "start_time": "2022-09-19T12:14:58.570223",
     "status": "completed"
    },
    "tags": []
   },
   "outputs": [],
   "source": [
    "# Split Data into Train and Test sets with 80% of data as Train set and 20% as Test set\n",
    "X_train, X_test, y_train, y_test = train_test_split(X, y, test_size = 0.2, random_state=0)\n",
    "\n",
    "X_train_scaled, X_test_scaled, y_train_scaled, y_test_scaled = train_test_split(X_copy_scaled, y, test_size = 0.2, random_state=0)"
   ]
  },
  {
   "cell_type": "code",
   "execution_count": 9,
   "id": "ee310104",
   "metadata": {
    "execution": {
     "iopub.execute_input": "2022-09-19T12:14:58.599805Z",
     "iopub.status.busy": "2022-09-19T12:14:58.599322Z",
     "iopub.status.idle": "2022-09-19T12:14:58.605783Z",
     "shell.execute_reply": "2022-09-19T12:14:58.604680Z"
    },
    "papermill": {
     "duration": 0.014518,
     "end_time": "2022-09-19T12:14:58.608155",
     "exception": false,
     "start_time": "2022-09-19T12:14:58.593637",
     "status": "completed"
    },
    "tags": []
   },
   "outputs": [],
   "source": [
    "# Function to fit classifier and print Accuracy score\n",
    "def model(classifier, X_train, y_train,\n",
    "                             X_test, y_test, X = X, y = y):\n",
    "    classifier.fit(X_train,np.ravel(y_train))\n",
    "    y_pred = classifier.predict(X_test)\n",
    "    \n",
    "    print(\"Model: \",type(classifier).__name__)\n",
    "    print(\"Test Data Accuracy: %0.2f\" % accuracy_score(y_test,y_pred))\n"
   ]
  },
  {
   "cell_type": "code",
   "execution_count": 10,
   "id": "9f17507b",
   "metadata": {
    "execution": {
     "iopub.execute_input": "2022-09-19T12:14:58.618828Z",
     "iopub.status.busy": "2022-09-19T12:14:58.618394Z",
     "iopub.status.idle": "2022-09-19T12:14:58.944394Z",
     "shell.execute_reply": "2022-09-19T12:14:58.942739Z"
    },
    "papermill": {
     "duration": 0.334334,
     "end_time": "2022-09-19T12:14:58.946930",
     "exception": false,
     "start_time": "2022-09-19T12:14:58.612596",
     "status": "completed"
    },
    "tags": []
   },
   "outputs": [
    {
     "name": "stdout",
     "output_type": "stream",
     "text": [
      "Model:  DecisionTreeClassifier\n",
      "Test Data Accuracy: 0.92\n",
      "Model:  SVC\n",
      "Test Data Accuracy: 0.88\n",
      "Model:  XGBClassifier\n",
      "Test Data Accuracy: 0.96\n"
     ]
    }
   ],
   "source": [
    "# Train and fit Decision Tree classifier\n",
    "clf_dct = DecisionTreeClassifier()\n",
    "model(clf_dct, X_train, y_train, X_test, y_test)\n",
    "\n",
    "# Train and fit SVC classifier\n",
    "clf_svc = SVC()\n",
    "model(clf_svc, X_train, y_train, X_test, y_test)\n",
    "\n",
    "# Train and fit XGB classifier\n",
    "clf_xgb = xgb.XGBClassifier()\n",
    "model(clf_xgb, X_train, y_train, X_test, y_test)\n",
    "\n"
   ]
  },
  {
   "cell_type": "code",
   "execution_count": 11,
   "id": "fd14a684",
   "metadata": {
    "execution": {
     "iopub.execute_input": "2022-09-19T12:14:58.958256Z",
     "iopub.status.busy": "2022-09-19T12:14:58.957526Z",
     "iopub.status.idle": "2022-09-19T12:14:58.965333Z",
     "shell.execute_reply": "2022-09-19T12:14:58.964387Z"
    },
    "papermill": {
     "duration": 0.016122,
     "end_time": "2022-09-19T12:14:58.967672",
     "exception": false,
     "start_time": "2022-09-19T12:14:58.951550",
     "status": "completed"
    },
    "tags": []
   },
   "outputs": [],
   "source": [
    "# Function to fit classifier, perform K-Fold Cross validation print Accuracy score and confusion matrix\n",
    "def model_hypertuning(classifier, params, X_train, y_train,X_test, y_test, X = X, y = y):\n",
    "                 classifier.set_params(**params)\n",
    "                 classifier.fit(X_train,np.ravel(y_train))\n",
    "                 y_pred = classifier.predict(X_test)\n",
    "                 print(\"Model: \",type(classifier).__name__)\n",
    "                 print(\"Test Data Accuracy: %0.2f\" % accuracy_score(y_test,y_pred))\n",
    "                 print(\"K-Fold Cross Validation Accuracy: %0.2f\" % cross_val_score(classifier, X, np.ravel(y), scoring='accuracy', cv=5).mean())\n",
    "                 print(\"Confusion Matrix:\")\n",
    "                 disp = ConfusionMatrixDisplay.from_estimator( classifier,X_test,y_test,\n",
    "                          display_labels=classifier.classes_, cmap=plt.cm.Blues)\n",
    "                 print(disp.confusion_matrix)\n",
    "                 plt.grid(False)\n",
    "                 plt.show()\n"
   ]
  },
  {
   "cell_type": "code",
   "execution_count": 12,
   "id": "3afa1a71",
   "metadata": {
    "execution": {
     "iopub.execute_input": "2022-09-19T12:14:58.979243Z",
     "iopub.status.busy": "2022-09-19T12:14:58.978512Z",
     "iopub.status.idle": "2022-09-19T12:15:01.089122Z",
     "shell.execute_reply": "2022-09-19T12:15:01.088116Z"
    },
    "papermill": {
     "duration": 2.119258,
     "end_time": "2022-09-19T12:15:01.091567",
     "exception": false,
     "start_time": "2022-09-19T12:14:58.972309",
     "status": "completed"
    },
    "tags": []
   },
   "outputs": [
    {
     "name": "stdout",
     "output_type": "stream",
     "text": [
      "Model:  DecisionTreeClassifier\n",
      "Test Data Accuracy: 0.94\n",
      "K-Fold Cross Validation Accuracy: 0.91\n",
      "Confusion Matrix:\n",
      "[[64  3]\n",
      " [ 4 43]]\n"
     ]
    },
    {
     "data": {
      "image/png": "[encoded data removed]",
      "text/plain": [
       "<Figure size 864x432 with 2 Axes>"
      ]
     },
     "metadata": {},
     "output_type": "display_data"
    }
   ],
   "source": [
    "#################### Decision Tree Classifier #############################\n",
    "clf_dct = DecisionTreeClassifier()\n",
    "\n",
    "params = { 'max_depth' : [3,5,10,15,20,25,30,35,40,45,50],\n",
    "          'criterion' : [\"gini\",\"entropy\"],\n",
    "          'max_features' : ['auto', 'sqrt', 'log2'],\n",
    "          'min_samples_split' : [2,4,6,8,10]\n",
    "         }\n",
    "\n",
    "grid = RandomizedSearchCV(clf_dct, params, n_jobs=-1)\n",
    "grid.fit(X_train, np.ravel(y_train))\n",
    "\n",
    "model_hypertuning(clf_dct,grid.best_params_,X_train, y_train, \n",
    "                         X_test, y_test)    \n",
    "\n",
    "############################################################################\n"
   ]
  },
  {
   "cell_type": "code",
   "execution_count": 13,
   "id": "0c8148cb",
   "metadata": {
    "execution": {
     "iopub.execute_input": "2022-09-19T12:15:01.104126Z",
     "iopub.status.busy": "2022-09-19T12:15:01.103035Z",
     "iopub.status.idle": "2022-09-19T12:15:01.612690Z",
     "shell.execute_reply": "2022-09-19T12:15:01.610534Z"
    },
    "papermill": {
     "duration": 0.519064,
     "end_time": "2022-09-19T12:15:01.615625",
     "exception": false,
     "start_time": "2022-09-19T12:15:01.096561",
     "status": "completed"
    },
    "tags": []
   },
   "outputs": [
    {
     "name": "stdout",
     "output_type": "stream",
     "text": [
      "Model:  SVC\n",
      "Test Data Accuracy: 0.91\n",
      "K-Fold Cross Validation Accuracy: 0.89\n",
      "Confusion Matrix:\n",
      "[[60  7]\n",
      " [ 3 44]]\n"
     ]
    },
    {
     "data": {
      "image/png": "[encoded data removed]",
      "text/plain": [
       "<Figure size 864x432 with 2 Axes>"
      ]
     },
     "metadata": {},
     "output_type": "display_data"
    }
   ],
   "source": [
    "########################## SVC Classifier ##################################\n",
    "clf_svc = SVC()\n",
    "\n",
    "params = { 'kernel' : ['linear','rbf','poly','sigmoid'],\n",
    "          'C' : [0.1,0.5,1,1.5,2,2.5,3,3.5,4,4.5,5,5.5],\n",
    "          'degree' : [1,2,3,4,5,6]\n",
    "         }\n",
    "grid = RandomizedSearchCV(clf_svc, params, n_jobs=-1)\n",
    "grid.fit(X_train_scaled, np.ravel(y_train_scaled))\n",
    "\n",
    "model_hypertuning(clf_svc,grid.best_params_,X_train_scaled, y_train_scaled, X_test_scaled, y_test_scaled)\n",
    "############################################################################\n",
    "\n"
   ]
  },
  {
   "cell_type": "code",
   "execution_count": 14,
   "id": "1070d6d7",
   "metadata": {
    "execution": {
     "iopub.execute_input": "2022-09-19T12:15:01.628228Z",
     "iopub.status.busy": "2022-09-19T12:15:01.627429Z",
     "iopub.status.idle": "2022-09-19T12:15:09.553949Z",
     "shell.execute_reply": "2022-09-19T12:15:09.552717Z"
    },
    "papermill": {
     "duration": 7.935632,
     "end_time": "2022-09-19T12:15:09.556627",
     "exception": false,
     "start_time": "2022-09-19T12:15:01.620995",
     "status": "completed"
    },
    "tags": []
   },
   "outputs": [
    {
     "name": "stdout",
     "output_type": "stream",
     "text": [
      "Model:  XGBClassifier\n",
      "Test Data Accuracy: 0.96\n",
      "K-Fold Cross Validation Accuracy: 0.95\n",
      "Confusion Matrix:\n",
      "[[65  2]\n",
      " [ 3 44]]\n"
     ]
    },
    {
     "data": {
      "image/png": "[encoded data removed]",
      "text/plain": [
       "<Figure size 864x432 with 2 Axes>"
      ]
     },
     "metadata": {},
     "output_type": "display_data"
    }
   ],
   "source": [
    "#################### XG Boost Classifier ###################################\n",
    "clf_xgb = xgb.XGBClassifier()\n",
    "\n",
    "params = { 'learning_rate' : [0.05,0.1,0.15,0.2,0.25,0.3],\n",
    "          'max_depth' : [3,4,5,6,8,10,12,16],\n",
    "          'min_child_weight' : [1,3,5,7],\n",
    "          'gamma' : [0,0.05,0.1,0.15,0.2,0.25,0.3,0.35,0.4],\n",
    "          'colsample_bytree' : [0.3,0.4,0.5,0.6]\n",
    "         }\n",
    "grid = RandomizedSearchCV(clf_xgb, params, n_jobs=-1)\n",
    "grid.fit(X_train, np.ravel(y_train))\n",
    "\n",
    "model_hypertuning(clf_xgb,grid.best_params_,X_train, y_train, X_test, y_test)\n",
    "#############################################################################        "
   ]
  }
 ],
 "metadata": {
  "kernelspec": {
   "display_name": "Python 3",
   "language": "python",
   "name": "python3"
  },
  "language_info": {
   "codemirror_mode": {
    "name": "ipython",
    "version": 3
   },
   "file_extension": ".py",
   "mimetype": "text/x-python",
   "name": "python",
   "nbconvert_exporter": "python",
   "pygments_lexer": "ipython3",
   "version": "3.7.12"
  },
  "papermill": {
   "default_parameters": {},
   "duration": 25.139689,
   "end_time": "2022-09-19T12:15:12.184829",
   "environment_variables": {},
   "exception": null,
   "input_path": "__notebook__.ipynb",
   "output_path": "__notebook__.ipynb",
   "parameters": {},
   "start_time": "2022-09-19T12:14:47.045140",
   "version": "2.3.4"
  }
 },
 "nbformat": 4,
 "nbformat_minor": 5
}
